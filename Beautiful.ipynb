{
  "nbformat": 4,
  "nbformat_minor": 0,
  "metadata": {
    "colab": {
      "provenance": [],
      "authorship_tag": "ABX9TyODOJunckxAIbvahnL/ybr3",
      "include_colab_link": true
    },
    "kernelspec": {
      "name": "python3",
      "display_name": "Python 3"
    },
    "language_info": {
      "name": "python"
    }
  },
  "cells": [
    {
      "cell_type": "markdown",
      "metadata": {
        "id": "view-in-github",
        "colab_type": "text"
      },
      "source": [
        "<a href=\"https://colab.research.google.com/github/Sayara20/CienciaDatos/blob/main/Beautiful.ipynb\" target=\"_parent\"><img src=\"https://colab.research.google.com/assets/colab-badge.svg\" alt=\"Open In Colab\"/></a>"
      ]
    },
    {
      "cell_type": "markdown",
      "source": [],
      "metadata": {
        "id": "ASK46ttYEeVa"
      }
    },
    {
      "cell_type": "markdown",
      "source": [
        "pip install bs4"
      ],
      "metadata": {
        "id": "cc5QlNJWEnsW"
      }
    },
    {
      "cell_type": "code",
      "execution_count": 1,
      "metadata": {
        "id": "xQHxm38PDl3X"
      },
      "outputs": [],
      "source": [
        "from bs4 import BeautifulSoup"
      ]
    },
    {
      "cell_type": "markdown",
      "source": [
        "pip install requests"
      ],
      "metadata": {
        "id": "mzHKTJY0ESvv"
      }
    },
    {
      "cell_type": "code",
      "source": [
        "import requests"
      ],
      "metadata": {
        "id": "Qb76jOucEA-q"
      },
      "execution_count": 3,
      "outputs": []
    },
    {
      "cell_type": "markdown",
      "source": [
        "pip install lxml"
      ],
      "metadata": {
        "id": "ryiFkf6vE3AH"
      }
    },
    {
      "cell_type": "code",
      "source": [],
      "metadata": {
        "id": "4KgIXf_5E9g1"
      },
      "execution_count": null,
      "outputs": []
    }
  ]
}